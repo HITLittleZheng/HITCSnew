version https://git-lfs.github.com/spec/v1
oid sha256:8c69a70a821aa58502a054ae8f069b3c1fcc6ecae9b2517855332ea19382829f
size 8450
